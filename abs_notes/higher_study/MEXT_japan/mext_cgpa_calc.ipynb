{
 "cells": [
  {
   "cell_type": "markdown",
   "metadata": {},
   "source": [
    "**Make a Excel File of my Results**"
   ]
  },
  {
   "cell_type": "code",
   "execution_count": null,
   "metadata": {},
   "outputs": [],
   "source": [
    "import pandas as pd\n",
    "\n",
    "# Define the data based on the images provided\n",
    "transcript_data = {\n",
    "    \"Semester\": [\n",
    "        \"Spring 2015\", \"Spring 2015\", \"Spring 2015\", \"Spring 2015\", \"Spring 2015\", \"Spring 2015\", \"Spring 2015\", \"Spring 2015\", \"Spring 2015\", \"Spring 2015\",\n",
    "        \"Autumn 2015\", \"Autumn 2015\", \"Autumn 2015\", \"Autumn 2015\", \"Autumn 2015\", \"Autumn 2015\", \"Autumn 2015\", \"Autumn 2015\", \"Autumn 2015\",\n",
    "        \"Spring 2016\", \"Spring 2016\", \"Spring 2016\", \"Spring 2016\", \"Spring 2016\", \"Spring 2016\", \"Spring 2016\", \"Spring 2016\", \"Spring 2016\", \"Spring 2016\", \"Spring 2016\",\n",
    "        \"Autumn 2016\", \"Autumn 2016\", \"Autumn 2016\", \"Autumn 2016\", \"Autumn 2016\", \"Autumn 2016\", \"Autumn 2016\", \"Autumn 2016\", \"Autumn 2016\", \"Autumn 2016\", \"Autumn 2016\",\n",
    "        \"Spring 2017\", \"Spring 2017\", \"Spring 2017\", \"Spring 2017\", \"Spring 2017\", \"Spring 2017\", \"Spring 2017\", \"Spring 2017\", \"Spring 2017\",\n",
    "        \"Autumn 2017\", \"Autumn 2017\", \"Autumn 2017\", \"Autumn 2017\", \"Autumn 2017\", \"Autumn 2017\", \"Autumn 2017\", \"Autumn 2017\", \"Autumn 2017\", \"Autumn 2017\", \"Autumn 2017\", \"Autumn 2017\",\n",
    "        \"Spring 2018\", \"Spring 2018\", \"Spring 2018\", \"Spring 2018\", \"Spring 2018\", \"Spring 2018\", \"Spring 2018\", \"Spring 2018\", \"Spring 2018\", \"Spring 2018\", \"Spring 2018\", \"Spring 2018\",\n",
    "        \"Autumn 2018\", \"Autumn 2018\", \"Autumn 2018\", \"Autumn 2018\", \"Autumn 2018\", \"Autumn 2018\", \"Autumn 2018\", \"Autumn 2018\", \"Autumn 2018\", \"Autumn 2018\", \"Autumn 2018\",\n",
    "    ],\n",
    "    \"Course_Title\": [\n",
    "        # Add all course titles from each semester here\n",
    "        \"Computer Fundamentals\", \"Computer Fundamentals Sessional\", \"Basic Electrical Engineering\", \"Basic Electrical Engineering Sessional\", \"Mathematics I\", \"Physics I\", \"Physics I Sessional\", \"Elementary Arabic\", \"Advanced English\", \"Islamic Aqidah\",\n",
    "        \"Engineering Drawing\", \"Structured Programming\", \"Structured Programming Sessional\", \"Discrete Mathematics\", \"Electronic Devices & Circuits\", \"Electronic Devices & Circuits Sessional\", \"Mathematics II\", \"Statistics\", \"Introduction to al-'Ibadah\",\n",
    "        \"Chemistry\", \"Object Oriented Programming I\", \"Object Oriented Programming I Sessional\", \"Data Structures\", \"Data Structures Sessional\", \"Digital Logic Design\", \"Digital Logic Design Sessional\", \"Mathematics III\", \"Physics II\", \"Physics II Sessional\", \"Introduction to Al Qur'an and Sunnah\",\n",
    "        \"Financial & Managerial Accounting\", \"Object Oriented Programming II\", \"Object Oriented Programming II Sessional\", \"Computer Algorithms\", \"Computer Algorithms Sessional\", \"Digital Electronics & Pulse Techniques\", \"Digital Electronics & Pulse Techniques Sessional\", \"Database System\", \"Database System Sessional\", \"Assembly Language Programming\", \"Mathematics IV\",\n",
    "        \"Computer Architecture\", \"Software Engineering\", \"Internet Technology and Web Programming\", \"Technical Writing and Presentation\", \"Principles of Economics\", \"Electrical Drives\", \"Electrical Drives Sessional\", \"Mathematics V\", \"Introduction to Political Thought\",\n",
    "        \"Microprocessors and Microcontroller\", \"Microprocessors and Microcontroller Sessional\", \"Data Communication\", \"Operating System\", \"Operating System Sessional\", \"System Analysis and Design\", \"System Analysis and Design Sessional\", \"Numerical Methods\", \"Numerical Methods Sessional\", \"Theory of Computing\", \"Industrial Management\", \"History of the Prophet (SAW)\",\n",
    "        \"Internet Technology and Web Programming Sessional\", \"Software Development Sessional\", \"Computer Networks\", \"Computer Networks Sessional\", \"Artificial Intelligence\", \"Artificial Intelligence Sessional\", \"Computer Networks\", \"Computer Graphics\", \"Research Methodology & Seminar\", \"Computer Simulation and Modeling\", \n",
    "        \"History of Khilafat and Muslim Contribution to World Civilization\",\n",
    "        \"Machine Learning and Data Mining\", \"Pattern Recognition and Image Processing\", \"Project/Thesis\", \"General Viva\", \"Bangladesh Studies\",\n",
    "    ],\n",
    "    \"Credit_Hour\": [\n",
    "        # Add corresponding credit hours from each course\n",
    "        2, 1, 2, 1, 3, 3, 1, 3, 1,\n",
    "        1, 3, 1, 2, 3, 1, 3, 2, 1,\n",
    "        3, 3, 1, 3, 1, 3, 1, 3, 3, 1,\n",
    "        2, 3, 3, 3, 1, 3, 1, 3, 3,\n",
    "        3, 3, 3, 3, 2, 2, 3, 1,\n",
    "        3, 1, 3, 3, 3, 1, 2, 1,\n",
    "        3, 3, 3, 3, 3, 1, 1, 2,\n",
    "        3, 3, 3, 1, 3, 3, 3, 1,\n",
    "    ],\n",
    "    \"Grade\": [\n",
    "        # Add corresponding grades from each course\n",
    "        \"A\", \"A+\", \"A+\", \"A+\", \"A\", \"A\", \"A\", \"A\", \"A\",\n",
    "        \"A+\", \"A+\", \"A+\", \"A+\", \"A\", \"A\", \"A\", \"A+\", \"A\",\n",
    "        \"A+\", \"A+\", \"A+\", \"A+\", \"A\", \"A\", \"A\", \"A+\", \"A\",\n",
    "        \"A\", \"A+\", \"A+\", \"A\", \"A\", \"A\", \"A\", \"A+\", \"A\",\n",
    "        \"A\", \"A+\", \"A+\", \"A\", \"A\", \"A\", \"A\", \"A\",\n",
    "        \"A\", \"A+\", \"A+\", \"A\", \"A\", \"A\", \"A\", \"A\",\n",
    "        \"A\", \"A+\", \"A\", \"A\", \"A\", \"A+\", \"A\", \"A+\",\n",
    "        \"A+\", \"A\", \"A+\", \"A\", \"A+\", \"A\", \"A\", \"A\",\n",
    "    ],\n",
    "    \"Point\": [\n",
    "        # Add corresponding points from each course\n",
    "        3.5, 3.75, 3.75, 3.75, 3.0, 3.0, 3.0, 3.0, 3.0,\n",
    "        3.75, 3.75, 3.75, 3.75, 3.5, 3.5, 3.75, 3.75, 3.5,\n",
    "        4.0, 4.0, 4.0, 4.0, 3.75, 3.75, 3.75, 3.75, 3.5, 3.5,\n",
    "        4.0, 4.0, 4.0, 4.0, 3.5, 3.5, 3.5, 4.0, 3.5,\n",
    "        3.0, 3.75, 3.5, 3.5, 3.0, 3.0, 3.0, 3.5,\n",
    "        3.0, 3.75, 3.0, 3.5, 3.0, 3.0, 3.0, 3.5,\n",
    "        3.0, 3.75, 3.5, 3.5, 3.5, 3.5, 3.5, 3.75,\n",
    "        3.75, 3.5, 3.75, 3.5, 3.75, 3.0, 3.5, 3.5\n",
    "    ]\n",
    "}\n",
    "\n",
    "# Create DataFrame and save to Excel\n",
    "transcript_df = pd.DataFrame(transcript_data)\n",
    "transcript_df.to_excel(\"Transcript_Formatted.xlsx\", index=False)"
   ]
  }
 ],
 "metadata": {
  "kernelspec": {
   "display_name": "Python 3",
   "language": "python",
   "name": "python3"
  },
  "language_info": {
   "name": "python",
   "version": "3.11.4"
  }
 },
 "nbformat": 4,
 "nbformat_minor": 2
}
